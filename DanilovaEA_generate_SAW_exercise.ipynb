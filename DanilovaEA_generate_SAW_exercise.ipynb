{
 "cells": [
  {
   "cell_type": "markdown",
   "metadata": {},
   "source": [
    "**Date:** 8th September 2018\n",
    "<br>\n",
    "<br>\n",
    "**<center>National Research University Higher School of Economics</center>**\n",
    "**<center>Complex Calculations Programming</center>**"
   ]
  },
  {
   "cell_type": "code",
   "execution_count": 1,
   "metadata": {},
   "outputs": [],
   "source": [
    "import collections"
   ]
  },
  {
   "cell_type": "markdown",
   "metadata": {},
   "source": [
    "# I. Generate all lattice walks, 2D square lattice"
   ]
  },
  {
   "cell_type": "code",
   "execution_count": 2,
   "metadata": {},
   "outputs": [],
   "source": [
    "steps = [(1, 0), (-1, 0), (0, 1), (0, -1)]\n",
    "\n",
    "def generate_walks(path, L):\n",
    "    \"\"\"Generate all random walks on the 2D square lattice.\"\"\"\n",
    "    if L == 0:\n",
    "        print(path)\n",
    "    else:\n",
    "        for dx, dy in steps:\n",
    "            x, y = path[-1]\n",
    "            pp = path.copy()\n",
    "            pp.append((x + dx, y + dy))\n",
    "            generate_walks(pp, L - 1)"
   ]
  },
  {
   "cell_type": "code",
   "execution_count": 3,
   "metadata": {},
   "outputs": [
    {
     "name": "stdout",
     "output_type": "stream",
     "text": [
      "[(0, 0), (1, 0), (2, 0)]\n",
      "[(0, 0), (1, 0), (0, 0)]\n",
      "[(0, 0), (1, 0), (1, 1)]\n",
      "[(0, 0), (1, 0), (1, -1)]\n",
      "[(0, 0), (-1, 0), (0, 0)]\n",
      "[(0, 0), (-1, 0), (-2, 0)]\n",
      "[(0, 0), (-1, 0), (-1, 1)]\n",
      "[(0, 0), (-1, 0), (-1, -1)]\n",
      "[(0, 0), (0, 1), (1, 1)]\n",
      "[(0, 0), (0, 1), (-1, 1)]\n",
      "[(0, 0), (0, 1), (0, 2)]\n",
      "[(0, 0), (0, 1), (0, 0)]\n",
      "[(0, 0), (0, -1), (1, -1)]\n",
      "[(0, 0), (0, -1), (-1, -1)]\n",
      "[(0, 0), (0, -1), (0, 0)]\n",
      "[(0, 0), (0, -1), (0, -2)]\n"
     ]
    }
   ],
   "source": [
    "generate_walks([(0, 0)], 2)"
   ]
  },
  {
   "cell_type": "markdown",
   "metadata": {},
   "source": [
    "## Store the walks\n",
    "\n",
    "Printing walks is nice, but not very useful. Better construct a list of all walks, for postprocessing. To this end, add a `cache` parameter, which stores all generated walks."
   ]
  },
  {
   "cell_type": "code",
   "execution_count": 4,
   "metadata": {},
   "outputs": [],
   "source": [
    "steps = [(1, 0), (-1, 0), (0, 1), (0, -1)]\n",
    "\n",
    "def generate_walks2(path, L, cache):\n",
    "    if L == 0:\n",
    "        cache.append(path)\n",
    "    else:\n",
    "        for dx, dy in steps:\n",
    "            x, y = path[-1]\n",
    "            xy_new = (x + dx, y + dy)\n",
    "            pp = path.copy()\n",
    "            pp.append(xy_new)\n",
    "            generate_walks2(pp, L - 1, cache)"
   ]
  },
  {
   "cell_type": "code",
   "execution_count": 5,
   "metadata": {},
   "outputs": [
    {
     "data": {
      "text/plain": [
       "16"
      ]
     },
     "execution_count": 5,
     "metadata": {},
     "output_type": "execute_result"
    }
   ],
   "source": [
    "cache = []\n",
    "generate_walks2([(0, 0)], 2, cache)\n",
    "len(cache)"
   ]
  },
  {
   "cell_type": "code",
   "execution_count": 6,
   "metadata": {},
   "outputs": [
    {
     "data": {
      "text/plain": [
       "[[(0, 0), (1, 0), (2, 0)],\n",
       " [(0, 0), (1, 0), (0, 0)],\n",
       " [(0, 0), (1, 0), (1, 1)],\n",
       " [(0, 0), (1, 0), (1, -1)],\n",
       " [(0, 0), (-1, 0), (0, 0)]]"
      ]
     },
     "execution_count": 6,
     "metadata": {},
     "output_type": "execute_result"
    }
   ],
   "source": [
    "cache[:5]"
   ]
  },
  {
   "cell_type": "markdown",
   "metadata": {},
   "source": [
    "## Task 0\n",
    "\n",
    "Compute the average end-to-end distance of random walks of a given length. What is the scaling of the end-to-end distance with the length of the walk? What is the scaling of the mean *square* end-to-end distance with the length?"
   ]
  },
  {
   "cell_type": "markdown",
   "metadata": {},
   "source": [
    "* The average end-to-end vector is  equal to zero.\n",
    "* information% https://en.wikipedia.org/wiki/Ideal_chain"
   ]
  },
  {
   "cell_type": "code",
   "execution_count": 7,
   "metadata": {},
   "outputs": [],
   "source": [
    "part_norm = lambda x,y: (x - y)**2"
   ]
  },
  {
   "cell_type": "code",
   "execution_count": 8,
   "metadata": {
    "scrolled": true
   },
   "outputs": [
    {
     "name": "stdout",
     "output_type": "stream",
     "text": [
      "start point (2.00, 6.00) == (2.00, 6.00) end point\n",
      "The average end-to-end distance of the polymer is  1.7532798363559174\n"
     ]
    }
   ],
   "source": [
    "# the average end-to-end distance\n",
    "\n",
    "cache = []\n",
    "st = [(2, 6)]\n",
    "generate_walks2(st, 4, cache)\n",
    "\n",
    "x = y = R = 0\n",
    "for i in cache:\n",
    "#     x1 += i[0][0]; y1 += i[0][1]\n",
    "    x += i[-1][0]; y += i[-1][1]\n",
    "    R += (part_norm(i[-1][0],i[0][0]) + part_norm(i[-1][1],i[0][1]))**(1/2)\n",
    "    \n",
    "x = x / len(cache)\n",
    "y = y / len(cache)\n",
    "R = R / len(cache)\n",
    "   \n",
    "print('start point (%.2f, %.2f) == (%.2f, %.2f) end point'%(st[0][0], st[0][1], x, y))\n",
    "print('The average end-to-end distance of the polymer is ', R)"
   ]
  },
  {
   "cell_type": "code",
   "execution_count": 9,
   "metadata": {},
   "outputs": [],
   "source": [
    "def scaling_end_to_end(n, ind, path=[(0, 0)]):\n",
    "    cache = []; R = 0\n",
    "    generate_walks2(path, n, cache)\n",
    "    for i in cache:\n",
    "        R += (part_norm(i[-1][0],i[0][0]) + part_norm(i[-1][1],i[0][1]))**(ind)\n",
    "    return R/len(cache)"
   ]
  },
  {
   "cell_type": "markdown",
   "metadata": {},
   "source": [
    "$||R||$ = $\\sqrt{R^2}$ = $\\sqrt{n}$"
   ]
  },
  {
   "cell_type": "code",
   "execution_count": 10,
   "metadata": {},
   "outputs": [
    {
     "name": "stdout",
     "output_type": "stream",
     "text": [
      "L = 3, ||R|| = 1.59, sqrt(n) = 1.73\n",
      "L = 5, ||R|| = 2.02, sqrt(n) = 2.24\n",
      "L = 7, ||R|| = 2.37, sqrt(n) = 2.65\n",
      "L = 9, ||R|| = 2.68, sqrt(n) = 3.00\n"
     ]
    }
   ],
   "source": [
    "# What is the scaling of the end-to-end distance \n",
    "# with the length of the walk?\n",
    "for i in [3, 5, 7, 9]:\n",
    "    print('L = %i, ||R|| = %.2f, sqrt(n) = %.2f'%(i, scaling_end_to_end(i, 0.5, [(1,2)]), i**(1/2)))"
   ]
  },
  {
   "cell_type": "markdown",
   "metadata": {},
   "source": [
    "$||R^2||$ = $R$ = ${n}$"
   ]
  },
  {
   "cell_type": "code",
   "execution_count": 11,
   "metadata": {},
   "outputs": [
    {
     "name": "stdout",
     "output_type": "stream",
     "text": [
      "||R^2|| = 3.00, n = 3.00\n",
      "||R^2|| = 5.00, n = 5.00\n",
      "||R^2|| = 7.00, n = 7.00\n",
      "||R^2|| = 9.00, n = 9.00\n"
     ]
    }
   ],
   "source": [
    "# What is the scaling of the mean square end-to-end distance \n",
    "# with the length?\n",
    "for i in [3, 5, 7, 9]:\n",
    "    print('||R^2|| = %.2f, n = %.2f'%(scaling_end_to_end(i, 1, [(1,2)]), i))"
   ]
  },
  {
   "cell_type": "markdown",
   "metadata": {},
   "source": [
    "# I. Generate all SAWs on a 2D square lattice\n",
    "\n",
    "A self-avoiding walk is a random walk where a lattice site can only be visited once."
   ]
  },
  {
   "cell_type": "code",
   "execution_count": 12,
   "metadata": {},
   "outputs": [],
   "source": [
    "steps = [(1, 0), (-1, 0), (0, 1), (0, -1)]\n",
    "\n",
    "def generate_SAWs(path, L, cache):\n",
    "    if L == 0:\n",
    "        if len([item for item, count in collections.Counter(path).items() if count > 1]) == 0:\n",
    "            cache.append(path)\n",
    "    else:\n",
    "        for dx, dy in steps:\n",
    "            x, y = path[-1]\n",
    "            xy_new = (x + dx, y + dy)\n",
    "            pp = path.copy()\n",
    "            pp.append(xy_new)\n",
    "            generate_SAWs(pp, L - 1, cache)"
   ]
  },
  {
   "cell_type": "markdown",
   "metadata": {},
   "source": [
    "## Task 1\n",
    "\n",
    "How many walks of a given length are there? What is the mean end-to-end distance of walks of a given length? What is mean *square* of the end-to-end distance?"
   ]
  },
  {
   "cell_type": "code",
   "execution_count": 13,
   "metadata": {},
   "outputs": [
    {
     "data": {
      "text/plain": [
       "36"
      ]
     },
     "execution_count": 13,
     "metadata": {},
     "output_type": "execute_result"
    }
   ],
   "source": [
    "cache = []\n",
    "\n",
    "generate_SAWs([(7, 2)], 3, cache)\n",
    "len(cache)"
   ]
  },
  {
   "cell_type": "code",
   "execution_count": 14,
   "metadata": {},
   "outputs": [
    {
     "data": {
      "text/plain": [
       "[[(7, 2), (8, 2), (9, 2), (10, 2)],\n",
       " [(7, 2), (8, 2), (9, 2), (9, 3)],\n",
       " [(7, 2), (8, 2), (9, 2), (9, 1)],\n",
       " [(7, 2), (8, 2), (8, 3), (9, 3)],\n",
       " [(7, 2), (8, 2), (8, 3), (7, 3)]]"
      ]
     },
     "execution_count": 14,
     "metadata": {},
     "output_type": "execute_result"
    }
   ],
   "source": [
    "cache[:5]"
   ]
  },
  {
   "cell_type": "code",
   "execution_count": 18,
   "metadata": {},
   "outputs": [],
   "source": [
    "def scaling_end_to_end(n, ind, path=[(0, 0)]):\n",
    "    cache = []; R = 0\n",
    "    generate_SAWs(path, n, cache)\n",
    "    for i in cache:\n",
    "        R += (part_norm(i[-1][0],i[0][0]) + part_norm(i[-1][1],i[0][1]))**(ind)\n",
    "    return R/len(cache)"
   ]
  },
  {
   "cell_type": "markdown",
   "metadata": {},
   "source": [
    "* https://cms.math.ca/10.4153/CMB-2012-022-6"
   ]
  },
  {
   "cell_type": "code",
   "execution_count": 19,
   "metadata": {},
   "outputs": [
    {
     "name": "stdout",
     "output_type": "stream",
     "text": [
      "L = 3, ||R|| = 2.05, sqrt(n) = 2.28\n",
      "L = 5, ||R|| = 2.95, sqrt(n) = 3.34\n",
      "L = 7, ||R|| = 3.75, sqrt(n) = 4.30\n",
      "L = 9, ||R|| = 4.49, sqrt(n) = 5.20\n"
     ]
    }
   ],
   "source": [
    "# What is the mean end-to-end distance \n",
    "# of walks of a given length?\n",
    "for i in [3, 5, 7, 9]:\n",
    "    print('L = %i, ||R|| = %.2f, sqrt(n) = %.2f'%(i, scaling_end_to_end(i, 0.5), i**(3/4)))"
   ]
  },
  {
   "cell_type": "markdown",
   "metadata": {},
   "source": []
  },
  {
   "cell_type": "code",
   "execution_count": 20,
   "metadata": {},
   "outputs": [
    {
     "name": "stdout",
     "output_type": "stream",
     "text": [
      "L = 3, ||R^2|| = 4.56, n = 5.20\n",
      "L = 5, ||R^2|| = 9.56, n = 11.18\n",
      "L = 7, ||R^2|| = 15.56, n = 18.52\n",
      "L = 9, ||R^2|| = 22.41, n = 27.00\n"
     ]
    }
   ],
   "source": [
    "# What is mean square of the end-to-end distance?\n",
    "for i in [3, 5, 7, 9]:\n",
    "    print('L = %i, ||R^2|| = %.2f, n = %.2f'%(i, scaling_end_to_end(i, 1), i**(3/2)))"
   ]
  },
  {
   "cell_type": "code",
   "execution_count": null,
   "metadata": {
    "collapsed": true
   },
   "outputs": [],
   "source": []
  }
 ],
 "metadata": {
  "kernelspec": {
   "display_name": "Python 3",
   "language": "python",
   "name": "python3"
  },
  "language_info": {
   "codemirror_mode": {
    "name": "ipython",
    "version": 3
   },
   "file_extension": ".py",
   "mimetype": "text/x-python",
   "name": "python",
   "nbconvert_exporter": "python",
   "pygments_lexer": "ipython3",
   "version": "3.7.0"
  }
 },
 "nbformat": 4,
 "nbformat_minor": 2
}
