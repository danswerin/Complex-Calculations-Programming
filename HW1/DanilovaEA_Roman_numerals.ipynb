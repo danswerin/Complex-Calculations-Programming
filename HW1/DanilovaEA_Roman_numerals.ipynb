{
 "cells": [
  {
   "cell_type": "markdown",
   "metadata": {},
   "source": [
    "**Date:** 8th September 2018\n",
    "<br>\n",
    "<br>\n",
    "**<center>National Research University Higher School of Economics</center>**\n",
    "**<center>Complex Calculations Programming</center>**"
   ]
  },
  {
   "cell_type": "markdown",
   "metadata": {},
   "source": [
    "# Roman numerals"
   ]
  },
  {
   "cell_type": "markdown",
   "metadata": {},
   "source": [
    "## I. Roman numerals to decimals\n",
    "\n",
    "Write a function which receives a Roman numeral written out as a string, and returns an integer representing the decimal form of the input number. "
   ]
  },
  {
   "cell_type": "code",
   "execution_count": 1,
   "metadata": {},
   "outputs": [],
   "source": [
    "mapping = {\"I\" :1, \n",
    "           \"V\" : 5,\n",
    "           \"X\" : 10,\n",
    "           \"L\" : 50,\n",
    "           \"C\" : 100,\n",
    "           \"D\" : 500,\n",
    "           \"M\" : 1000,\n",
    "#            \"IV\": 4,\n",
    "#            \"IX\": 9,\n",
    "#            \"XL\": 40,\n",
    "#            \"XC\": 90,\n",
    "#            \"CD\": 400,\n",
    "#            \"CM\": 900\n",
    "          }"
   ]
  },
  {
   "cell_type": "code",
   "execution_count": 2,
   "metadata": {},
   "outputs": [],
   "source": [
    "def roman_to_decimal(rom, dec=0):\n",
    "    \"\"\"Convert a Roman numeral to decimal.\n",
    "    \n",
    "    Parameters\n",
    "    ----------\n",
    "    rom : str\n",
    "        A Roman numeral representing a positive integer.\n",
    "        \n",
    "    Returns\n",
    "    -------\n",
    "    dec : int\n",
    "        The result of conversion of `rom` into a decimal system.\n",
    "    \"\"\"\n",
    "    for count, item in enumerate(rom):\n",
    "        if count + 1 < len(rom) and mapping.get(item) < mapping.get(rom[count+1]):\n",
    "            dec = dec - mapping.get(item)\n",
    "        else:\n",
    "            dec += mapping.get(item)\n",
    "        \n",
    "    return dec"
   ]
  },
  {
   "cell_type": "markdown",
   "metadata": {},
   "source": [
    "Here are some tests for you to test your code. Your code must pass all of them. You also need to come up with several more tests (your choice)."
   ]
  },
  {
   "cell_type": "code",
   "execution_count": 5,
   "metadata": {},
   "outputs": [
    {
     "name": "stdout",
     "output_type": "stream",
     "text": [
      "True: IX == 9 == 9\n",
      "True: XI == 11 == 11\n",
      "False: (XII == 12) != 21\n",
      "True: MCCII == 1202 == 1202\n",
      "True: MMXVIII == 2018 == 2018\n",
      "True: XLIX == 49 == 49\n",
      "False: (XX == 20) != 1989\n"
     ]
    }
   ],
   "source": [
    "# test_pairs = [(\"IX\", 9), (\"XI\", 11), (\"MCCII\", 1202), (\"MMXVIII\", 2018), (\"XLIX\", 49)]\n",
    "test_pairs = [('IX', 9), \n",
    "              (\"XI\", 11), ('XII', 21),\n",
    "              (\"MCCII\", 1202), \n",
    "              (\"MMXVIII\", 2018), (\"XLIX\", 49), \n",
    "              ('XX', 1989), \n",
    "#               ('XX', 'ff'),('XX', '77')\n",
    "             ]\n",
    "\n",
    "for rom, dec in test_pairs:\n",
    "#   upper letters\n",
    "    try:\n",
    "        converted = roman_to_decimal(rom.upper())\n",
    "        if converted == dec:\n",
    "            print('True' + ': ' + str(rom) \\\n",
    "                         + ' == ' + str(dec) \\\n",
    "                         + ' == ' + str(converted))\n",
    "        else:\n",
    "            print('False' + ': (' + str(rom) \\\n",
    "                          + ' == ' + str(converted) \\\n",
    "                          + ') != ' + str(dec))\n",
    "    except:\n",
    "        print(ValueError, 'try again')"
   ]
  },
  {
   "cell_type": "markdown",
   "metadata": {},
   "source": [
    "## II. Decimal numbers to roman numerals.\n",
    "\n",
    "The maximum grade for first task (Roman to decimal) is 7 on the 10-point HSE scale. For extra credit, complete the second task: *given a decimal number, convert it to the Roman form*."
   ]
  },
  {
   "cell_type": "code",
   "execution_count": 6,
   "metadata": {},
   "outputs": [],
   "source": [
    "mapping = {1: 'I', \n",
    "           5: 'V',\n",
    "           10: 'X',\n",
    "           50: 'L',\n",
    "           100: 'C',\n",
    "           500: 'D',\n",
    "           1000: 'M',\n",
    "           4: 'IV',\n",
    "           9: 'IX',\n",
    "           40: 'XL',\n",
    "           90: 'XC',\n",
    "           400: 'CD',\n",
    "           900: 'CM'}"
   ]
  },
  {
   "cell_type": "code",
   "execution_count": 7,
   "metadata": {},
   "outputs": [],
   "source": [
    "def decimal_to_roman(dec, rom=''):\n",
    "    \"\"\"Convert a decimal to the Roman form.\n",
    "    \n",
    "    Parameters\n",
    "    ----------\n",
    "    dec : int\n",
    "        A positive integer number\n",
    "    \n",
    "    Returns\n",
    "    -------\n",
    "    rom : str\n",
    "        A string representation of a Roman numeral form of `dec`.\n",
    "    \"\"\"\n",
    "    \n",
    "    l = sorted(mapping.keys(), reverse=True)\n",
    "    for i in l:\n",
    "        amount = int(dec/i)\n",
    "        rom += amount * mapping.get(i)\n",
    "        dec = dec - i * amount\n",
    "    return rom"
   ]
  },
  {
   "cell_type": "markdown",
   "metadata": {},
   "source": [
    "You need to come up with test cases to show that your conversion works as expected. \n",
    "NB: the conversion is ambiguous in some cases. Any valid conversion is accepted. "
   ]
  },
  {
   "cell_type": "code",
   "execution_count": 9,
   "metadata": {},
   "outputs": [
    {
     "name": "stdout",
     "output_type": "stream",
     "text": [
      "True: 9 == IX == IX\n",
      "<class 'ValueError'> your input 'ff' is not valid\n",
      "True: 11 == XI == XI\n",
      "False: (21 == XXI) != XII\n",
      "True: 1202 == MCCII == MCCII\n",
      "True: 2018 == MMXVIII == MMXVIII\n",
      "True: 49 == XLIX == XLIX\n",
      "False: (1989 == MCMLXXXIX) != XX\n",
      "False: (77 == LXXVII) != XX\n"
     ]
    }
   ],
   "source": [
    "test_pairs = [('IX', 9), ('XX', 'ff'),\n",
    "              (\"XI\", 11), ('XII', 21),\n",
    "              (\"MCCII\", 1202), \n",
    "              (\"MMXVIII\", 2018), (\"XLIX\", 49), \n",
    "              ('XX', 1989), ('XX', '77')]\n",
    "\n",
    "for rom, dec in test_pairs:\n",
    "    try:\n",
    "        dec = int(dec)\n",
    "    except:\n",
    "        print(ValueError, 'your input \\'' + dec + '\\' is not valid')\n",
    "        continue\n",
    "    if dec < 0 or dec > 3999 or not isinstance(dec, (int)):\n",
    "        print(ValueError, 'your input \\'' + dec + '\\' is not valid')\n",
    "    else:\n",
    "        converted = decimal_to_roman(dec)\n",
    "        if converted == rom:\n",
    "            print('True' + ': ' + str(dec) \\\n",
    "                         + ' == ' + str(rom) \\\n",
    "                         + ' == ' + str(converted))\n",
    "        else:\n",
    "            print('False' + ': (' + str(dec) \\\n",
    "                          + ' == ' + str(converted) \\\n",
    "                          + ') != ' + str(rom))"
   ]
  }
 ],
 "metadata": {
  "kernelspec": {
   "display_name": "Python 3",
   "language": "python",
   "name": "python3"
  },
  "language_info": {
   "codemirror_mode": {
    "name": "ipython",
    "version": 3
   },
   "file_extension": ".py",
   "mimetype": "text/x-python",
   "name": "python",
   "nbconvert_exporter": "python",
   "pygments_lexer": "ipython3",
   "version": "3.7.0"
  }
 },
 "nbformat": 4,
 "nbformat_minor": 2
}
