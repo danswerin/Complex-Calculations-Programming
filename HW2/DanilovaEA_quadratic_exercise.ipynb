{
 "cells": [
  {
   "cell_type": "markdown",
   "metadata": {},
   "source": [
    "**Date:** 16th September 2018\n",
    "<br>\n",
    "<br>\n",
    "**<center>National Research University Higher School of Economics</center>**\n",
    "**<center>Complex Calculations Programming</center>**"
   ]
  },
  {
   "cell_type": "markdown",
   "metadata": {},
   "source": [
    "## Solve a quadratic equation, $x^2 + b x + c = 0$."
   ]
  },
  {
   "cell_type": "code",
   "execution_count": 3,
   "metadata": {},
   "outputs": [],
   "source": [
    "import cmath\n",
    "import numpy as np\n",
    "from numpy import allclose\n",
    "from decimal import Decimal"
   ]
  },
  {
   "cell_type": "code",
   "execution_count": 4,
   "metadata": {},
   "outputs": [],
   "source": [
    "check_function = lambda x, a, b, c: a * x**2 + b * x + c"
   ]
  },
  {
   "cell_type": "code",
   "execution_count": 32,
   "metadata": {},
   "outputs": [],
   "source": [
    "def solve_quad(b, c, a=1):\n",
    "    b = Decimal(b); c = Decimal(c); a = Decimal(a)\n",
    "    if a == 0 and b == 0:\n",
    "        print('c == 0') if c == 0 else print('Error! Check \\'c\\'')\n",
    "    elif a == 0:\n",
    "        print('X = %.2f'%(-c/b))\n",
    "        print('Answer checked.') if int(check_function(-c/b, a, b, c)) == 0 else print('Error in answer.') \n",
    "    else:\n",
    "        d = b**2 - 4 * a * c\n",
    "        \n",
    "        if d < 0:\n",
    "            b = float(b); a = float(a); d = float(d); c = float(c)\n",
    "            x1 = (-b-cmath.sqrt(d)) / (2*a)\n",
    "            x2 = (-b+cmath.sqrt(d)) / (2*a)\n",
    "            \n",
    "            print(x1*x2)\n",
    "            print('X1 = %.2f+%.2fj, X2 = %.2f+%.2fj'%(x1.real, x1.imag, x2.real, x2.imag))\n",
    "#             print('Answer checked') if (int((x1*x2).real) == c and int((x1*x2).imag) == 0) else print('Error in answer')       \n",
    "            print('Answer checked') if allclose(x1*x2, c) else print('Error in answer')       \n",
    "            \n",
    "        elif d == 0:\n",
    "            x1 = (-b-np.sqrt(d)) / (2*a)\n",
    "            \n",
    "            print('One root. X1 = %.2f,'%(x1))\n",
    "            print('Answer checked.') if int(check_function(x1, a, b, c)) == 0 else print('Error in answer.')\n",
    "        \n",
    "        else:\n",
    "            x1 = (-b-np.sqrt(d)) / (2*a)\n",
    "            x2 = (-b+np.sqrt(d)) / (2*a)\n",
    "            \n",
    "            print('X1 = %.2f, X2 = %.2f'%(x1, x2))\n",
    "            print('X1: Answer checked.') if int(check_function(x1, a, b, c)) == 0 else print('X1: Error in answer.')\n",
    "            print('X2: Answer checked.') if int(check_function(x2, a, b, c)) == 0 else print('X2: Error in answer.')\n",
    "    return True\n"
   ]
  },
  {
   "cell_type": "code",
   "execution_count": 39,
   "metadata": {},
   "outputs": [],
   "source": [
    "variants = [{'b': 0, 'c': 0, 'a':0},\n",
    "            {'b': 0, 'c': 0},\n",
    "            {'b': 0, 'c': 5, 'a':0},\n",
    "            {'b': 0, 'c': 6},\n",
    "            {'b': 6, 'c': 0, 'a':0},\n",
    "            {'b': 4, 'c': 0},\n",
    "            {'b': 4, 'c': 4, 'a':0},\n",
    "            {'b': 5.0, 'c': 3.0},\n",
    "            {'b': 2.0, 'c': 1.0},\n",
    "            {'b': 0.5, 'c': 4.0},\n",
    "            {'b': 1e10, 'c': 3.0},\n",
    "            {'b': -1e10, 'c': 4.0}\n",
    "            ]"
   ]
  },
  {
   "cell_type": "code",
   "execution_count": 40,
   "metadata": {},
   "outputs": [
    {
     "name": "stdout",
     "output_type": "stream",
     "text": [
      "c == 0\n",
      "__________________\n",
      "\n",
      "One root. X1 = 0.00,\n",
      "Answer checked.\n",
      "__________________\n",
      "\n",
      "Error! Check 'c'\n",
      "__________________\n",
      "\n",
      "(5.999999999999999-0j)\n",
      "X1 = -0.00+-2.45j, X2 = 0.00+2.45j\n",
      "Answer checked\n",
      "__________________\n",
      "\n",
      "X = 0.00\n",
      "Answer checked.\n",
      "__________________\n",
      "\n",
      "X1 = -4.00, X2 = 0.00\n",
      "X1: Answer checked.\n",
      "X2: Answer checked.\n",
      "__________________\n",
      "\n",
      "X = -1.00\n",
      "Answer checked.\n",
      "__________________\n",
      "\n",
      "X1 = -4.30, X2 = -0.70\n",
      "X1: Answer checked.\n",
      "X2: Answer checked.\n",
      "__________________\n",
      "\n",
      "One root. X1 = -1.00,\n",
      "Answer checked.\n",
      "__________________\n",
      "\n",
      "(4+0j)\n",
      "X1 = -0.25+-1.98j, X2 = -0.25+1.98j\n",
      "Answer checked\n",
      "__________________\n",
      "\n",
      "X1 = -10000000000.00, X2 = -0.00\n",
      "X1: Answer checked.\n",
      "X2: Answer checked.\n",
      "__________________\n",
      "\n",
      "X1 = 0.00, X2 = 10000000000.00\n",
      "X1: Answer checked.\n",
      "X2: Answer checked.\n",
      "__________________\n",
      "\n"
     ]
    }
   ],
   "source": [
    "for var in variants:\n",
    "    solve_quad(**var)\n",
    "    print('__________________\\n')"
   ]
  }
 ],
 "metadata": {
  "kernelspec": {
   "display_name": "Python 3",
   "language": "python",
   "name": "python3"
  },
  "language_info": {
   "codemirror_mode": {
    "name": "ipython",
    "version": 3
   },
   "file_extension": ".py",
   "mimetype": "text/x-python",
   "name": "python",
   "nbconvert_exporter": "python",
   "pygments_lexer": "ipython3",
   "version": "3.7.0"
  }
 },
 "nbformat": 4,
 "nbformat_minor": 2
}
