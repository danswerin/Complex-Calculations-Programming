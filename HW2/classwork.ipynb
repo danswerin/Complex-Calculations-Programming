{
 "cells": [
  {
   "cell_type": "markdown",
   "metadata": {},
   "source": [
    "## Solve a quadratic equation, $x^2 + b x + c = 0$."
   ]
  },
  {
   "cell_type": "code",
   "execution_count": 52,
   "metadata": {},
   "outputs": [],
   "source": [
    "import numpy as np\n",
    "from numpy.linalg import eigvals\n",
    "from numpy import allclose\n",
    "from decimal import Decimal"
   ]
  },
  {
   "cell_type": "code",
   "execution_count": 92,
   "metadata": {},
   "outputs": [],
   "source": [
    "func = lambda x, b, c: x**2 + b * x + c"
   ]
  },
  {
   "cell_type": "code",
   "execution_count": 93,
   "metadata": {},
   "outputs": [],
   "source": [
    "func1 = lambda x, b: 2 * x + b"
   ]
  },
  {
   "cell_type": "code",
   "execution_count": 174,
   "metadata": {},
   "outputs": [],
   "source": [
    "def solve_quad(b, c):\n",
    "#     b = Decimal(b); c = Decimal(c)\n",
    "    A = np.array([[0, -c],[1, -b]])    \n",
    "    e = eigvals(A)\n",
    "    print(e)\n",
    "    \n",
    "    e = newton_function(e, b, c)\n",
    "    return e\n",
    "    # ... enter your code here ..."
   ]
  },
  {
   "cell_type": "code",
   "execution_count": 183,
   "metadata": {},
   "outputs": [],
   "source": [
    "def newton_function(e, b, c, eps=1e-100):\n",
    "#     b = Decimal(b); c = Decimal(c)\n",
    "    e_list = []    \n",
    "    for i in e:\n",
    "        e_curr = (i)\n",
    "        while True:\n",
    "            e_next = e_curr - func(e_curr, b, c) / func1(e_curr, b) \n",
    "            if (abs(e_curr - e_next)) < eps :\n",
    "                break                \n",
    "            e_curr = e_next \n",
    "                    \n",
    "        e_list.append(e_curr)          \n",
    "    return e_list"
   ]
  },
  {
   "cell_type": "code",
   "execution_count": 184,
   "metadata": {},
   "outputs": [],
   "source": [
    "variants = [{'b': 4.0, 'c': 3.0},\n",
    "            {'b': 2.0, 'c': 1.0},\n",
    "            {'b': 0.5, 'c': 4.0},\n",
    "            {'b': 1e10, 'c': 3.0},\n",
    "            {'b': -1e10, 'c': 4.0},]"
   ]
  },
  {
   "cell_type": "code",
   "execution_count": 185,
   "metadata": {},
   "outputs": [],
   "source": [
    "# for var in variants:\n",
    "#     x1, x2 = solve_quad(**var)\n",
    "#     print(x1, x2)\n",
    "#     print(allclose(x1*x2, var['c']))"
   ]
  },
  {
   "cell_type": "code",
   "execution_count": 187,
   "metadata": {},
   "outputs": [
    {
     "name": "stdout",
     "output_type": "stream",
     "text": [
      "[-1. -3.]\n",
      "True\n",
      "[-1. -1.]\n",
      "True\n",
      "[-0.25+1.98431348j -0.25-1.98431348j]\n",
      "True\n",
      "[ 0.e+00 -1.e+10]\n",
      "True\n",
      "[0.e+00 1.e+10]\n",
      "True\n"
     ]
    }
   ],
   "source": [
    "for var in variants:\n",
    "    x1, x2 = solve_quad(**var)\n",
    "#     print(e) \n",
    "#     print(func(x1, Decimal(var['b']), Decimal(var['c'])))\n",
    "    print(allclose(x1*x2, var['c']))"
   ]
  },
  {
   "cell_type": "code",
   "execution_count": 203,
   "metadata": {},
   "outputs": [],
   "source": [
    "def function(b, c):\n",
    "    \n",
    "    print(locals())\n",
    "    \n",
    "    d = locals()\n",
    "    \n",
    "    for i in d:\n",
    "        print(d[i])"
   ]
  },
  {
   "cell_type": "code",
   "execution_count": 204,
   "metadata": {},
   "outputs": [
    {
     "name": "stdout",
     "output_type": "stream",
     "text": [
      "{'b': 5, 'c': 6}\n",
      "5\n",
      "6\n"
     ]
    }
   ],
   "source": [
    "function(5,6)"
   ]
  },
  {
   "cell_type": "code",
   "execution_count": null,
   "metadata": {},
   "outputs": [],
   "source": []
  }
 ],
 "metadata": {
  "kernelspec": {
   "display_name": "Python 3",
   "language": "python",
   "name": "python3"
  },
  "language_info": {
   "codemirror_mode": {
    "name": "ipython",
    "version": 3
   },
   "file_extension": ".py",
   "mimetype": "text/x-python",
   "name": "python",
   "nbconvert_exporter": "python",
   "pygments_lexer": "ipython3",
   "version": "3.7.0"
  }
 },
 "nbformat": 4,
 "nbformat_minor": 2
}
