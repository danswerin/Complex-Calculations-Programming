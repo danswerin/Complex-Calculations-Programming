{
 "cells": [
  {
   "cell_type": "code",
   "execution_count": 2,
   "metadata": {},
   "outputs": [],
   "source": [
    "import sys\n",
    "import numpy as np\n",
    "import matplotlib.pyplot as plt\n",
    "\n",
    "%matplotlib inline"
   ]
  },
  {
   "cell_type": "markdown",
   "metadata": {},
   "source": [
    "### Task 1\n",
    "Написать программу, оценивающую значение машинного эпсилон для стандартных чисел с двойной точностью.\n",
    "____"
   ]
  },
  {
   "cell_type": "markdown",
   "metadata": {},
   "source": [
    "- Machine epsilon gives an upper bound on the relative error due to rounding in floating point arithmetic. (Wikipedia)\n",
    "- Double-precision floating-point format is a computer number format, usually occupying 64 bits in computer memory; it represents a wide dynamic range of numeric values by using a floating radix point. (Wikipedia)\n",
    "- According to Prof. Demmel, LAPACK, Scilab: $$MachineEps = -b^{-(p-1)}/2$$\n",
    "- According to Prof. Higham; ISO C standard; C, C++ and Python language constants; Mathematica, MATLAB and Octave: $$MachineEps = -b^{-(p-1)}$$"
   ]
  },
  {
   "cell_type": "markdown",
   "metadata": {},
   "source": [
    "As you can see, in Python machine epsilon is:"
   ]
  },
  {
   "cell_type": "code",
   "execution_count": 2,
   "metadata": {},
   "outputs": [
    {
     "data": {
      "text/plain": [
       "2.220446049250313e-16"
      ]
     },
     "execution_count": 2,
     "metadata": {},
     "output_type": "execute_result"
    }
   ],
   "source": [
    "sys.float_info.epsilon"
   ]
  },
  {
   "cell_type": "markdown",
   "metadata": {},
   "source": [
    "Let's estimate it for integer, float and complex number."
   ]
  },
  {
   "cell_type": "code",
   "execution_count": 33,
   "metadata": {},
   "outputs": [],
   "source": [
    "def estimateMachineEps(func=float):\n",
    "    machExp = func(1)\n",
    "    step = 0\n",
    "    while func(1)+func(machExp) != func(1):\n",
    "        machExpTotal = machExp\n",
    "        machExp = func(machExp) / func(2)\n",
    "        step += 1\n",
    "        print('Step %i: '%step, machExpTotal)\n",
    "    return machExpTotal"
   ]
  },
  {
   "cell_type": "code",
   "execution_count": 34,
   "metadata": {},
   "outputs": [
    {
     "name": "stdout",
     "output_type": "stream",
     "text": [
      "Step 1:  1\n"
     ]
    },
    {
     "data": {
      "text/plain": [
       "1"
      ]
     },
     "execution_count": 34,
     "metadata": {},
     "output_type": "execute_result"
    }
   ],
   "source": [
    "estimateMachineEps(int)"
   ]
  },
  {
   "cell_type": "code",
   "execution_count": 35,
   "metadata": {
    "scrolled": true
   },
   "outputs": [
    {
     "name": "stdout",
     "output_type": "stream",
     "text": [
      "Step 1:  1.0\n",
      "Step 2:  0.5\n",
      "Step 3:  0.25\n",
      "Step 4:  0.125\n",
      "Step 5:  0.0625\n",
      "Step 6:  0.03125\n",
      "Step 7:  0.015625\n",
      "Step 8:  0.0078125\n",
      "Step 9:  0.00390625\n",
      "Step 10:  0.001953125\n",
      "Step 11:  0.0009765625\n",
      "Step 12:  0.00048828125\n",
      "Step 13:  0.000244140625\n",
      "Step 14:  0.0001220703125\n",
      "Step 15:  6.103515625e-05\n",
      "Step 16:  3.0517578125e-05\n",
      "Step 17:  1.52587890625e-05\n",
      "Step 18:  7.62939453125e-06\n",
      "Step 19:  3.814697265625e-06\n",
      "Step 20:  1.9073486328125e-06\n",
      "Step 21:  9.5367431640625e-07\n",
      "Step 22:  4.76837158203125e-07\n",
      "Step 23:  2.384185791015625e-07\n",
      "Step 24:  1.1920928955078125e-07\n",
      "Step 25:  5.960464477539063e-08\n",
      "Step 26:  2.9802322387695312e-08\n",
      "Step 27:  1.4901161193847656e-08\n",
      "Step 28:  7.450580596923828e-09\n",
      "Step 29:  3.725290298461914e-09\n",
      "Step 30:  1.862645149230957e-09\n",
      "Step 31:  9.313225746154785e-10\n",
      "Step 32:  4.656612873077393e-10\n",
      "Step 33:  2.3283064365386963e-10\n",
      "Step 34:  1.1641532182693481e-10\n",
      "Step 35:  5.820766091346741e-11\n",
      "Step 36:  2.9103830456733704e-11\n",
      "Step 37:  1.4551915228366852e-11\n",
      "Step 38:  7.275957614183426e-12\n",
      "Step 39:  3.637978807091713e-12\n",
      "Step 40:  1.8189894035458565e-12\n",
      "Step 41:  9.094947017729282e-13\n",
      "Step 42:  4.547473508864641e-13\n",
      "Step 43:  2.2737367544323206e-13\n",
      "Step 44:  1.1368683772161603e-13\n",
      "Step 45:  5.684341886080802e-14\n",
      "Step 46:  2.842170943040401e-14\n",
      "Step 47:  1.4210854715202004e-14\n",
      "Step 48:  7.105427357601002e-15\n",
      "Step 49:  3.552713678800501e-15\n",
      "Step 50:  1.7763568394002505e-15\n",
      "Step 51:  8.881784197001252e-16\n",
      "Step 52:  4.440892098500626e-16\n",
      "Step 53:  2.220446049250313e-16\n"
     ]
    },
    {
     "data": {
      "text/plain": [
       "2.220446049250313e-16"
      ]
     },
     "execution_count": 35,
     "metadata": {},
     "output_type": "execute_result"
    }
   ],
   "source": [
    "estimateMachineEps(float)"
   ]
  },
  {
   "cell_type": "code",
   "execution_count": 36,
   "metadata": {
    "scrolled": true
   },
   "outputs": [
    {
     "name": "stdout",
     "output_type": "stream",
     "text": [
      "Step 1:  (1+0j)\n",
      "Step 2:  (0.5+0j)\n",
      "Step 3:  (0.25+0j)\n",
      "Step 4:  (0.125+0j)\n",
      "Step 5:  (0.0625+0j)\n",
      "Step 6:  (0.03125+0j)\n",
      "Step 7:  (0.015625+0j)\n",
      "Step 8:  (0.0078125+0j)\n",
      "Step 9:  (0.00390625+0j)\n",
      "Step 10:  (0.001953125+0j)\n",
      "Step 11:  (0.0009765625+0j)\n",
      "Step 12:  (0.00048828125+0j)\n",
      "Step 13:  (0.000244140625+0j)\n",
      "Step 14:  (0.0001220703125+0j)\n",
      "Step 15:  (6.103515625e-05+0j)\n",
      "Step 16:  (3.0517578125e-05+0j)\n",
      "Step 17:  (1.52587890625e-05+0j)\n",
      "Step 18:  (7.62939453125e-06+0j)\n",
      "Step 19:  (3.814697265625e-06+0j)\n",
      "Step 20:  (1.9073486328125e-06+0j)\n",
      "Step 21:  (9.5367431640625e-07+0j)\n",
      "Step 22:  (4.76837158203125e-07+0j)\n",
      "Step 23:  (2.384185791015625e-07+0j)\n",
      "Step 24:  (1.1920928955078125e-07+0j)\n",
      "Step 25:  (5.960464477539063e-08+0j)\n",
      "Step 26:  (2.9802322387695312e-08+0j)\n",
      "Step 27:  (1.4901161193847656e-08+0j)\n",
      "Step 28:  (7.450580596923828e-09+0j)\n",
      "Step 29:  (3.725290298461914e-09+0j)\n",
      "Step 30:  (1.862645149230957e-09+0j)\n",
      "Step 31:  (9.313225746154785e-10+0j)\n",
      "Step 32:  (4.656612873077393e-10+0j)\n",
      "Step 33:  (2.3283064365386963e-10+0j)\n",
      "Step 34:  (1.1641532182693481e-10+0j)\n",
      "Step 35:  (5.820766091346741e-11+0j)\n",
      "Step 36:  (2.9103830456733704e-11+0j)\n",
      "Step 37:  (1.4551915228366852e-11+0j)\n",
      "Step 38:  (7.275957614183426e-12+0j)\n",
      "Step 39:  (3.637978807091713e-12+0j)\n",
      "Step 40:  (1.8189894035458565e-12+0j)\n",
      "Step 41:  (9.094947017729282e-13+0j)\n",
      "Step 42:  (4.547473508864641e-13+0j)\n",
      "Step 43:  (2.2737367544323206e-13+0j)\n",
      "Step 44:  (1.1368683772161603e-13+0j)\n",
      "Step 45:  (5.684341886080802e-14+0j)\n",
      "Step 46:  (2.842170943040401e-14+0j)\n",
      "Step 47:  (1.4210854715202004e-14+0j)\n",
      "Step 48:  (7.105427357601002e-15+0j)\n",
      "Step 49:  (3.552713678800501e-15+0j)\n",
      "Step 50:  (1.7763568394002505e-15+0j)\n",
      "Step 51:  (8.881784197001252e-16+0j)\n",
      "Step 52:  (4.440892098500626e-16+0j)\n",
      "Step 53:  (2.220446049250313e-16+0j)\n"
     ]
    },
    {
     "data": {
      "text/plain": [
       "(2.220446049250313e-16+0j)"
      ]
     },
     "execution_count": 36,
     "metadata": {},
     "output_type": "execute_result"
    }
   ],
   "source": [
    "estimateMachineEps(complex)"
   ]
  },
  {
   "cell_type": "markdown",
   "metadata": {},
   "source": [
    "____"
   ]
  },
  {
   "cell_type": "markdown",
   "metadata": {},
   "source": [
    "### Task 2\n",
    "Привести пример функции, производную которой нельзя вычислить методом дифференцирования с комплексным шагом.\n",
    "_____"
   ]
  },
  {
   "cell_type": "markdown",
   "metadata": {},
   "source": [
    "Аналити́ческая функция вещественной переменной — функция, которая совпадает со своим рядом Тейлора в окрестности любой точки области определения.\n",
    "Пример неаналитических функций на C – $$f(z) = |z|$$ поскольку данная функция не имеет комплексной производной ни в одной точке."
   ]
  },
  {
   "cell_type": "code",
   "execution_count": 225,
   "metadata": {},
   "outputs": [],
   "source": [
    "f = lambda x: np.abs(x)\n",
    "g = lambda x: 1/np.abs(x)"
   ]
  },
  {
   "cell_type": "code",
   "execution_count": 228,
   "metadata": {},
   "outputs": [],
   "source": [
    "def printFunction(testF, dotX):\n",
    "    dotY = testF(dotX)\n",
    "    x = np.linspace(-dotX,dotX*2, 1000, endpoint=True) \n",
    "    y = testF(x)\n",
    "\n",
    "    plt.figure()\n",
    "    plt.plot(x,y)\n",
    "    plt.plot(dotX, dotY, 'o')\n",
    "\n",
    "    plt.xlim((-dotX,dotX*2))\n",
    "    plt.ylim((0, 6))\n",
    "\n",
    "    plt.ylabel('f(x)')\n",
    "    plt.xlabel('x')\n",
    "    plt.annotate(xy=(0,5),s=r'$f(x)=|x|$',fontsize=20)\n",
    "\n",
    "    plt.plot()\n",
    "    plt.show()"
   ]
  },
  {
   "cell_type": "code",
   "execution_count": 229,
   "metadata": {},
   "outputs": [
    {
     "data": {
      "image/png": "[encoded data removed]",
      "text/plain": [
       "<Figure size 432x288 with 1 Axes>"
      ]
     },
     "metadata": {
      "needs_background": "light"
     },
     "output_type": "display_data"
    }
   ],
   "source": [
    "printFunction(f, 1)"
   ]
  },
  {
   "cell_type": "code",
   "execution_count": 230,
   "metadata": {},
   "outputs": [],
   "source": [
    "# The complex step approximation \n",
    "def df_pc(x, h):\n",
    "    return np.imag(f(x + 1j*h))/h\n",
    "\n",
    "def df_ff(x, h):\n",
    "    return (f(x + h) - F(x))/h\n",
    "\n",
    "# The centered finite difference approximation with step size h is\n",
    "def df_pd(x, h):\n",
    "    return (f(x + h) - f(x - h))/(2 * h)\n",
    "\n",
    "def df_diff(x):\n",
    "    return ((np.exp(x)*(np.cos(3*x) + np.sin(3*x)/2 + (3*np.sin(x))/2)) / \n",
    "            (np.cos(x)**3 + np.sin(x)**3)**2)"
   ]
  },
  {
   "cell_type": "code",
   "execution_count": 231,
   "metadata": {},
   "outputs": [],
   "source": [
    "def complexStepDifferentiation(dotX, h_list):\n",
    "    error_pcs = np.zeros(h_list.shape)\n",
    "    error_pds = np.zeros(h_list.shape)\n",
    "    error_ffs = np.zeros(h_list.shape)\n",
    "\n",
    "    exact = df_diff(dotX)\n",
    "    for i, h in enumerate(h_list):\n",
    "        error_pcs[i] = np.abs(df_pc(dotX, h) - exact)\n",
    "    #   /np.abs(exact)\n",
    "        error_pds[i] = np.abs(df_pd(dotX, h) - exact)\n",
    "    #     /np.abs(exact)\n",
    "    #     error_ffs[i] = np.abs(df_ff(dotX, h) - exact)/np.abs(exact)\n",
    "\n",
    "    plt.figure()\n",
    "    plt.loglog(h_list, error_pcs, label='Complex step')\n",
    "    # plt.loglog(h_list, error_ffs, label='Forward difference')\n",
    "    plt.loglog(h_list, error_pds, label='Central-difference')\n",
    "\n",
    "    plt.gca().invert_xaxis()\n",
    "    plt.legend()\n",
    "    plt.ylabel('Normalized error')\n",
    "    plt.xlabel('Step size (h)')\n",
    "\n",
    "    plt.show()"
   ]
  },
  {
   "cell_type": "code",
   "execution_count": 232,
   "metadata": {},
   "outputs": [
    {
     "data": {
      "image/png": "[encoded data removed]",
      "text/plain": [
       "<Figure size 432x288 with 1 Axes>"
      ]
     },
     "metadata": {
      "needs_background": "light"
     },
     "output_type": "display_data"
    }
   ],
   "source": [
    "complexStepDifferentiation(1, np.logspace(-5,0,15, endpoint=True))"
   ]
  },
  {
   "cell_type": "markdown",
   "metadata": {},
   "source": [
    "_______\n",
    "### Task 3\n",
    "Релизовать алгоритм вычисления первой производной методом дифференцирования с комплексным шагом. Для функции с известным значением производной, изучить сходимость численного ответа при уменьшении шага.\n",
    "_____"
   ]
  },
  {
   "cell_type": "markdown",
   "metadata": {},
   "source": [
    "Classic function for complex step differentiation: https://blogs.mathworks.com/cleve/2013/10/14/complex-step-differentiation/"
   ]
  },
  {
   "cell_type": "code",
   "execution_count": 233,
   "metadata": {},
   "outputs": [],
   "source": [
    "f = lambda x: np.exp(x)/((np.cos(x))**3 + np.sin(x)**3)"
   ]
  },
  {
   "cell_type": "markdown",
   "metadata": {},
   "source": [
    "Here's a plot over a portion of the 𝑥-axis, with a dot at 𝜋/4."
   ]
  },
  {
   "cell_type": "code",
   "execution_count": 234,
   "metadata": {},
   "outputs": [
    {
     "data": {
      "image/png": "[encoded data removed]",
      "text/plain": [
       "<Figure size 432x288 with 1 Axes>"
      ]
     },
     "metadata": {
      "needs_background": "light"
     },
     "output_type": "display_data"
    }
   ],
   "source": [
    "printFunction(f, np.pi/4)"
   ]
  },
  {
   "cell_type": "markdown",
   "metadata": {},
   "source": [
    "Now we can plot the error from computing the first derivative by complex step and finite differences."
   ]
  },
  {
   "cell_type": "code",
   "execution_count": 235,
   "metadata": {},
   "outputs": [
    {
     "data": {
      "image/png": "[encoded data removed]",
      "text/plain": [
       "<Figure size 432x288 with 1 Axes>"
      ]
     },
     "metadata": {
      "needs_background": "light"
     },
     "output_type": "display_data"
    }
   ],
   "source": [
    "complexStepDifferentiation(np.pi/4, np.logspace(-15,-1,15, endpoint=True))"
   ]
  },
  {
   "cell_type": "markdown",
   "metadata": {},
   "source": [
    "This confirms that complex step is accurate for small step sizes whereas the finite difference approach never achieves full accuracy."
   ]
  },
  {
   "cell_type": "markdown",
   "metadata": {},
   "source": [
    "_______\n",
    "### Task 4\n",
    "Прямым вычислением показать, что один шаг экстраполяции Ричардсона для центральной схемы вычисления первой производной воспроизводит явную форму разностной схемы порядка  $$O(h^4)$$\n",
    "_____\n"
   ]
  },
  {
   "cell_type": "markdown",
   "metadata": {},
   "source": [
    "    Richardson's Extrapolation to approximate  f'(x) at a particular x.\n",
    "    \n",
    "    Based on an algorithm in \"Numerical Mathematics and Computing\"\n",
    "    4th Edition, by Cheney and Kincaid, Brooks-Cole, 1999."
   ]
  },
  {
   "cell_type": "code",
   "execution_count": 159,
   "metadata": {},
   "outputs": [],
   "source": [
    "# f – function\n",
    "# x - value of x to find derivative at\n",
    "# n - number of levels of extrapolation\n",
    "# h - initial stepsize\n",
    "\n",
    "def richardson( f, x, n, h ):\n",
    "    # d[n,n] will contain the most accurate approximation to f'(x).\n",
    "    d = np.array( [[0] * (n + 1)] * (n + 1), float )\n",
    "    \n",
    "    for i in range(n + 1):\n",
    "        d[i,0] = (f(x + h) - f(x - h))/(2 * h)\n",
    "\n",
    "        power = 1  \n",
    "        for j in range(1, i + 1):\n",
    "            power = 4 * power\n",
    "#             d[i,j] = d[i,j-1] + (d[i,j-1] - d[i-1,j-1])/(power - 1)\n",
    "            d[i,j] = (power * d[i,j-1] - d[i-1,j-1])/(power - 1)\n",
    "\n",
    "        h = h/2\n",
    "    return d"
   ]
  },
  {
   "cell_type": "code",
   "execution_count": 154,
   "metadata": {},
   "outputs": [],
   "source": [
    "f = lambda x: x**2\n",
    "f1 = lambda x: x**2 + 5* np.cos(x)\n",
    "f2 = lambda x: x + 2 * x**5 - np.exp(x) * np.sin(x)"
   ]
  },
  {
   "cell_type": "code",
   "execution_count": 158,
   "metadata": {},
   "outputs": [
    {
     "name": "stdout",
     "output_type": "stream",
     "text": [
      "[[2. 0.]\n",
      " [2. 2.]]\n",
      "[[-0.53891344  0.        ]\n",
      " [-0.544593   -0.54648619]]\n",
      "[[158.18894069   0.        ]\n",
      " [157.56425737 157.35602959]]\n"
     ]
    }
   ],
   "source": [
    "# two-dimensional array of extrapolation values.\n",
    "# The [n,n] value of this array should be the most accurate estimate of f'(x).\n",
    "\n",
    "print(richardson(f, 1, 1, 0.1))\n",
    "print(richardson(f1, 2, 1, 0.1))\n",
    "print(richardson(f2, 2, 1, 0.1))"
   ]
  },
  {
   "cell_type": "markdown",
   "metadata": {},
   "source": [
    "____\n",
    "### Task 5 \n",
    "Написать программу, вычисляющую производную функции  $$x^{2}ln(x)$$ в точке <i>x = 0</i> с точностью $$O(h^2)$$\n",
    " ____"
   ]
  },
  {
   "cell_type": "code",
   "execution_count": null,
   "metadata": {},
   "outputs": [],
   "source": []
  }
 ],
 "metadata": {
  "kernelspec": {
   "display_name": "Python 3",
   "language": "python",
   "name": "python3"
  },
  "language_info": {
   "codemirror_mode": {
    "name": "ipython",
    "version": 3
   },
   "file_extension": ".py",
   "mimetype": "text/x-python",
   "name": "python",
   "nbconvert_exporter": "python",
   "pygments_lexer": "ipython3",
   "version": "3.7.0"
  }
 },
 "nbformat": 4,
 "nbformat_minor": 2
}
