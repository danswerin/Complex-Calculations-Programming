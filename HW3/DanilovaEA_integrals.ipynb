{
 "cells": [
  {
   "cell_type": "markdown",
   "metadata": {},
   "source": [
    "**Date:** 14th September 2018\n",
    "<br>\n",
    "<br>\n",
    "**<center>National Research University Higher School of Economics</center>**\n",
    "**<center>Complex Calculations Programming</center>**"
   ]
  },
  {
   "cell_type": "markdown",
   "metadata": {},
   "source": [
    "Разработать программу реализующую интегрирование заданной функции методом средних прямоугольников (или иным методом, на выбор) с адаптивной сеткой. Сравнить скорость сходимости данного метода и метода с равномерной сеткой.\n",
    "*Указание: для выбора \"наибольшего\" интервала используйте модуль `heapq` из стандартной библиотеки. (При использовании языка `C++`, используйте `std::set`).* "
   ]
  },
  {
   "cell_type": "code",
   "execution_count": 1,
   "metadata": {},
   "outputs": [],
   "source": [
    "import numpy as np\n",
    "import heapq\n",
    "import matplotlib.pyplot as plt\n",
    "\n",
    "%matplotlib inline"
   ]
  },
  {
   "cell_type": "code",
   "execution_count": 2,
   "metadata": {},
   "outputs": [],
   "source": [
    "# (start, width)\n",
    "def create_rectangle(a, b, f, mark):\n",
    "    rectangle = (a, b - a)\n",
    "    curr_x = a + rectangle[1]/2\n",
    "    return (mark*f(curr_x) * rectangle[1], rectangle)"
   ]
  },
  {
   "cell_type": "code",
   "execution_count": 3,
   "metadata": {},
   "outputs": [],
   "source": [
    "def get_max_element(lst, key=None):\n",
    "    ''' Find and remove the maximum element from the list.'''\n",
    "    if key is None:\n",
    "        key = lambda x: x\n",
    "        \n",
    "    element = max(lst, key=key)\n",
    "    element_index = lst.index(element)\n",
    "    \n",
    "    return element, lst[:element_index] + lst[element_index+1 :]"
   ]
  },
  {
   "cell_type": "code",
   "execution_count": 4,
   "metadata": {},
   "outputs": [],
   "source": [
    "def get_max_element_heapq(lst, key=None):\n",
    "    \"\"\"Transform list x into a heap, in-place, in linear time.\"\"\"\n",
    "    heapq.heapify(lst)\n",
    "    \n",
    "    return lst[-1], lst[:-1]"
   ]
  },
  {
   "cell_type": "code",
   "execution_count": 5,
   "metadata": {},
   "outputs": [],
   "source": [
    "def adaptive_rectangle_list(f, a, b, f_max, mark, npts):\n",
    "    \n",
    "    ''' A list element is (-weight, (start, width))\n",
    "        Integrate f(x) from a to b using npts steps of the adaptive algorithm.\n",
    "    '''\n",
    "\n",
    "    lst = []\n",
    "    element = create_rectangle(a, b, f, mark)\n",
    "    lst.append(element)\n",
    "    \n",
    "    for _ in range(npts):\n",
    "        rectangle, lst = f_max(lst, lambda x: -x[0])\n",
    "        w, (start, width) = rectangle\n",
    "                \n",
    "        c = start + width / 2.\n",
    "        \n",
    "        first_rectangle = create_rectangle(start, c, f, mark)\n",
    "        second_rectangle = create_rectangle(c, start + width, f, mark)\n",
    "        \n",
    "        lst.append(first_rectangle)\n",
    "        lst.append(second_rectangle)\n",
    "\n",
    "    return mark*sum(w for w, r in lst), lst"
   ]
  },
  {
   "cell_type": "code",
   "execution_count": 6,
   "metadata": {},
   "outputs": [],
   "source": [
    "def midpoint(f, a, b, n):\n",
    "    h = float(b - a) / n\n",
    "    result = 0\n",
    "    for i in range(n):\n",
    "        result += f(a + 0.5*h + i*h)\n",
    "    return result * h"
   ]
  },
  {
   "cell_type": "code",
   "execution_count": 7,
   "metadata": {},
   "outputs": [],
   "source": [
    "'''Function that have to be integrate'''\n",
    "f = lambda x: np.exp(-x)"
   ]
  },
  {
   "cell_type": "code",
   "execution_count": 8,
   "metadata": {},
   "outputs": [],
   "source": [
    "'''Exact value of integral'''\n",
    "F = lambda a, b: -np.exp(-b) + np.exp(-a)"
   ]
  },
  {
   "cell_type": "code",
   "execution_count": 9,
   "metadata": {},
   "outputs": [
    {
     "name": "stdout",
     "output_type": "stream",
     "text": [
      "Exact value =  0.9999999979388464\n",
      "n, res =  5 0.7921436846593407\n",
      "n, res =  25 0.9903744105507674\n",
      "n, res =  125 0.9995254841578629\n",
      "n, res =  250 0.9997636401049373\n",
      "n, res =  500 0.9998166847139779\n",
      "n, res =  1000 0.9998277637078664\n",
      "n, res =  5000 0.9998400734567691\n"
     ]
    }
   ],
   "source": [
    "a, b = 0, 20\n",
    "\n",
    "exact = F(a,b)\n",
    "print('Exact value = ', exact)\n",
    "for n in (5, 25, 125, 250, 500, 1000, 5000):\n",
    "    res, lst = adaptive_rectangle_list(f, a, b, get_max_element_heapq, 1, n)\n",
    "    print ('n, res = ', n, res)"
   ]
  },
  {
   "cell_type": "code",
   "execution_count": 10,
   "metadata": {},
   "outputs": [
    {
     "name": "stdout",
     "output_type": "stream",
     "text": [
      "56.4 ms ± 2.38 ms per loop (mean ± std. dev. of 7 runs, 10 loops each)\n"
     ]
    }
   ],
   "source": [
    "%timeit adaptive_rectangle_list(f, a, b, get_max_element_heapq, 1, npts=1000)"
   ]
  },
  {
   "cell_type": "code",
   "execution_count": 11,
   "metadata": {},
   "outputs": [
    {
     "data": {
      "image/png": "[encoded data removed]",
      "text/plain": [
       "<Figure size 432x288 with 1 Axes>"
      ]
     },
     "metadata": {
      "needs_background": "light"
     },
     "output_type": "display_data"
    }
   ],
   "source": [
    "res1 = []\n",
    "res2 = []\n",
    "res3 = []\n",
    "a, b = 0, 20\n",
    "npts = []\n",
    "for n in range(5,55,5):\n",
    "    npts.append(n)\n",
    "    res1.append(abs(adaptive_rectangle_list(f, a, b, get_max_element_heapq, 1, n)[0]-exact))\n",
    "    res2.append(abs(midpoint(f,a,b,n)-exact))\n",
    "    res3.append(abs(adaptive_rectangle_list(f, a, b, get_max_element, -1, n)[0]-exact))\n",
    "    \n",
    "plt.figure()\n",
    "\n",
    "plt.plot(npts, res3, label='adaprive algorithm from lecture')\n",
    "plt.plot(npts, res1, label='adaptive algorithm with heapq')\n",
    "plt.plot(npts, res2, label='central rectangular')\n",
    "\n",
    "\n",
    "plt.legend()\n",
    "plt.ylabel('Normalized error')\n",
    "plt.xlabel('n')\n",
    "\n",
    "plt.show()"
   ]
  },
  {
   "cell_type": "markdown",
   "metadata": {},
   "source": [
    "Скорость сходимости интегрирования заданной функции методом средних прямоугольников с адаптивной сеткой выше, чем у метода с равномерной сеткой."
   ]
  }
 ],
 "metadata": {
  "kernelspec": {
   "display_name": "Python 3",
   "language": "python",
   "name": "python3"
  },
  "language_info": {
   "codemirror_mode": {
    "name": "ipython",
    "version": 3
   },
   "file_extension": ".py",
   "mimetype": "text/x-python",
   "name": "python",
   "nbconvert_exporter": "python",
   "pygments_lexer": "ipython3",
   "version": "3.7.0"
  }
 },
 "nbformat": 4,
 "nbformat_minor": 2
}
