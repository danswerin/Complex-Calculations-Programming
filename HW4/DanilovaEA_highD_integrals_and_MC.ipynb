{
 "cells": [
  {
   "cell_type": "markdown",
   "metadata": {},
   "source": [
    "**Date:** 26th October 2018\n",
    "<br>\n",
    "<br>\n",
    "**<center>National Research University Higher School of Economics</center>**\n",
    "**<center>Complex Calculations Programming</center>**"
   ]
  },
  {
   "cell_type": "code",
   "execution_count": 464,
   "metadata": {},
   "outputs": [],
   "source": [
    "from scipy.integrate import dblquad, tplquad, nquad, quadrature\n",
    "import math\n",
    "import random\n",
    "import sympy\n",
    "import sobol_seq\n",
    "from scipy.misc import derivative\n",
    "\n",
    "import numpy as np\n",
    "\n",
    "import matplotlib.pyplot as plt\n",
    "# plt.style.use('ggplot')\n",
    "%matplotlib notebook"
   ]
  },
  {
   "cell_type": "markdown",
   "metadata": {},
   "source": [
    "_______\n",
    "### Task 1\n",
    "Implement integration over a rectangular domain with a double Legendre quadrature.\n",
    "______"
   ]
  },
  {
   "cell_type": "markdown",
   "metadata": {},
   "source": [
    "#### Example: 2D integrals over a rectangular domain\n",
    "\n",
    "$$\n",
    "I[f] = \\int_0^{1}\\!\\int_0^{1}\\! f(x, y)\\, dy\\, dx \\;.\n",
    "$$\n",
    "\n",
    "Use a Gauss-Legendre quadrature (weight function $=1$) for both $x$ and $y$:\n",
    "\n",
    "$$\n",
    "Q[f] = \\sum_{j=0}^{m} \\sum_{k=0}^{n} f(x_j, y_k)\\, w_j^{(x)} \\, w_k^{(y)}\n",
    "$$"
   ]
  },
  {
   "cell_type": "code",
   "execution_count": 386,
   "metadata": {},
   "outputs": [],
   "source": [
    "f = lambda x, y: 3*x + 2*y"
   ]
  },
  {
   "cell_type": "code",
   "execution_count": 338,
   "metadata": {},
   "outputs": [],
   "source": [
    "def polinom(n): \n",
    "    first = 1 / (2**n * math.factorial(n))\n",
    "    \n",
    "    x = sympy.Symbol('x')\n",
    "    second = (x**2 - 1)**n\n",
    "    f_second = second.diff(x, n)\n",
    "    \n",
    "    return first*f_second"
   ]
  },
  {
   "cell_type": "code",
   "execution_count": 339,
   "metadata": {},
   "outputs": [],
   "source": [
    "# n, m = 100,100\n",
    "\n",
    "# x = sympy.Symbol('x')\n",
    "# p_dotX = polinom(n)\n",
    "# P_n_dotX = sympy.lambdify(x, p_dotX)\n",
    "# P_prev_n_dotX = sympy.lambdify(x, p_dotX.diff(x, 1))\n",
    "\n",
    "# p_dotY = polinom(m)\n",
    "# P_n_dotY = sympy.lambdify(x, p_dotY)\n",
    "# P_prev_n_dotY = sympy.lambdify(x, p_dotY.diff(x, 1))"
   ]
  },
  {
   "cell_type": "code",
   "execution_count": 349,
   "metadata": {
    "scrolled": true
   },
   "outputs": [],
   "source": [
    "result = 0\n",
    "# a, b = 0, 1\n",
    "Rx = [0,1]\n",
    "Ry = [0,1]\n",
    "\n",
    "h_n = (Rx[1] - Rx[0]) / n\n",
    "h_m = (Ry[1] - Ry[0]) / m\n",
    "     \n",
    "for j in range(0, n):\n",
    "    x_j = Rx[0] + h_n * (j + 0.5)\n",
    "#     P_n = P_n_dotX(x_j)\n",
    "#     P_prev_n = P_prev_n_dotX(x_j)\n",
    "#     dP = (n/(1 - x_j**2)) * (P_prev_n - x_j * P_n)\n",
    "#     w_j = 2 / ((1 - x_j**2) * dP**2)\n",
    "    for k in range(0, m):      \n",
    "        y_k = Ry[0] + h_m * (k + 0.5)\n",
    "#         P_n = P_n_dotY(y_k)\n",
    "#         P_prev_n = P_prev_n_dotY(y_k)\n",
    "#         dP = (n/(1 - y_k**2)) * (P_prev_n - y_k * P_n)\n",
    "#         w_k = 2 / ((1 - y_k**2) * dP**2)\n",
    "        result += f(x_j, y_k) * h_n * h_m"
   ]
  },
  {
   "cell_type": "code",
   "execution_count": 350,
   "metadata": {},
   "outputs": [
    {
     "data": {
      "text/plain": [
       "2.4999999999999973"
      ]
     },
     "execution_count": 350,
     "metadata": {},
     "output_type": "execute_result"
    }
   ],
   "source": [
    "result"
   ]
  },
  {
   "cell_type": "markdown",
   "metadata": {},
   "source": [
    "Comparison with calculation of double integral via scipy.integrate"
   ]
  },
  {
   "cell_type": "code",
   "execution_count": 337,
   "metadata": {},
   "outputs": [
    {
     "data": {
      "text/plain": [
       "(2.5, 3.880959068587106e-14)"
      ]
     },
     "execution_count": 337,
     "metadata": {},
     "output_type": "execute_result"
    }
   ],
   "source": [
    "res = dblquad(f, 0, 1, lambda x: 0, lambda x: 1)\n",
    "print()"
   ]
  },
  {
   "cell_type": "markdown",
   "metadata": {},
   "source": [
    "____\n",
    "### Task 2\n",
    "Implement integration over a trangular domain with a mixed Legendre/Jacobi quadrature. \n",
    "___"
   ]
  },
  {
   "cell_type": "markdown",
   "metadata": {},
   "source": [
    "The function below computes double integral over a triangular region using the cubic formula-case. The triangle is defined by its corner\n",
    "coordinate arrays xc and yc, where the coordinates are listed in a counterclockwise order around the triangle."
   ]
  },
  {
   "cell_type": "code",
   "execution_count": 483,
   "metadata": {},
   "outputs": [],
   "source": [
    "f = lambda x, y: (x**2 + y**2)/2 - \\\n",
    "                 (x**3 - 3 * x * y**2)/6 - 2/3"
   ]
  },
  {
   "cell_type": "code",
   "execution_count": 495,
   "metadata": {},
   "outputs": [],
   "source": [
    "xc = [-1, -1, 2]\n",
    "yc = [np.sqrt(3), -np.sqrt(3),  0]\n",
    "# xc = [0, 0, 1]\n",
    "# yc = [0, 1, 0]\n",
    "result = 0\n",
    "\n",
    "alpha = np.array([[1/3, 1/3, 1/3], \\\n",
    "                    [0.2, 0.2, 0.6], \\\n",
    "                    [0.6, 0.2, 0.2], \\\n",
    "                    [0.2, 0.6, 0.2]])\n",
    "\n",
    "W = np.array([-27/48, 25/48, 25/48, 25/48])\n",
    "\n",
    "x = np.dot(alpha,xc)\n",
    "y = np.dot(alpha,yc)\n",
    "\n",
    "A = (xc[1]*yc[2] - xc[2]*yc[1] \\\n",
    "    - xc[0]*yc[2] + xc[2]*yc[0] \\\n",
    "    + xc[0]*yc[1] - xc[1]*yc[0])/2\n",
    "\n",
    "for i in range(4):\n",
    "    result = result + W[i] * f(x[i], y[i])"
   ]
  },
  {
   "cell_type": "markdown",
   "metadata": {},
   "source": [
    "Result:"
   ]
  },
  {
   "cell_type": "code",
   "execution_count": 496,
   "metadata": {},
   "outputs": [
    {
     "data": {
      "text/plain": [
       "-1.5588457268119895"
      ]
     },
     "execution_count": 496,
     "metadata": {},
     "output_type": "execute_result"
    }
   ],
   "source": [
    "result*A"
   ]
  },
  {
   "cell_type": "markdown",
   "metadata": {},
   "source": [
    "____\n",
    "### Task 3\n",
    "Repeat the Buffon's needle experiment for a range of $N$. Study the convergence of the result to the correct answer. Compare your findings to the CLT prediction, the $\\sqrt{N}$ dependence.\n",
    "____"
   ]
  },
  {
   "cell_type": "markdown",
   "metadata": {},
   "source": [
    "- https://www.uzh.ch/cmsssl/physik/dam/jcr:8ef65f81-f446-4b2c-909a-f94d0c0734c4/EMPP_lec1.pdf \n",
    "- https://en.wikipedia.org/wiki/Buffon%27s_needle"
   ]
  },
  {
   "cell_type": "markdown",
   "metadata": {},
   "source": [
    "The needle crosses a horizontal line if\n",
    "\n",
    "$$x \\le \\frac{l}{2}\\cos\\theta$$"
   ]
  },
  {
   "cell_type": "code",
   "execution_count": 325,
   "metadata": {},
   "outputs": [
    {
     "name": "stdout",
     "output_type": "stream",
     "text": [
      "Attempt \t Number Hits \t estimate of pi \t error\n",
      "1 \t\t 2559 \t\t 3.12622 \t\t 0.01537\n",
      "2 \t\t 2554 \t\t 3.13234 \t\t 0.00925\n",
      "3 \t\t 2523 \t\t 3.17083 \t\t -0.02924\n",
      "4 \t\t 2563 \t\t 3.12134 \t\t 0.02025\n",
      "5 \t\t 2573 \t\t 3.10921 \t\t 0.03238\n",
      "6 \t\t 2557 \t\t 3.12867 \t\t 0.01293\n",
      "7 \t\t 2550 \t\t 3.13725 \t\t 0.00434\n"
     ]
    }
   ],
   "source": [
    "'''\n",
    "n = number of throws\n",
    "attempts = number of attempts\n",
    "l = length of needle\n",
    "d = distance between horizontal lines\n",
    "theta = angle between needle and horizontal line\n",
    "needle_center = center of needles on floor\n",
    "\n",
    "nhits <===  number of hits of needle centered at x, \n",
    "with orientation theta\n",
    "\n",
    "nhits = 1 if x < l/2 and abs(theta) < arcos(x/(l/2))\n",
    "      = 0 otherwise\n",
    "'''\n",
    "\n",
    "def buffon_needle_experiment(n, attempts, l, d):\n",
    "    data = []\n",
    "    print ('Attempt \\t Number Hits \\t estimate of pi \\t error')\n",
    "    for j in range(attempts):\n",
    "        nhits = 0\n",
    "        for _ in range(n):\n",
    "#             0 < needle_center < d/2\n",
    "            needle_center = random.uniform(0, d/2.0)\n",
    "#             0  < theta < pi/2\n",
    "            theta = random.uniform(0, np.pi/2)\n",
    "            dist  = needle_center - (l/2)*np.cos(theta) \n",
    "            if dist < 0 :\n",
    "                nhits += 1\n",
    "        estimate_pi = (2 * l * n)/(d * nhits)\n",
    "        print('%i \\t\\t %i \\t\\t %.5f \\t\\t %.5f'%(j+1, nhits, estimate_pi, np.pi - estimate_pi))\n",
    "        data.append([j, nhits])\n",
    "    return data\n",
    "        \n",
    "\n",
    "attempts = 7\n",
    "n = 4000\n",
    "l = 2  # needle's length 2\n",
    "d = 2  # spacing between horizontal lines, length\n",
    "\n",
    "hits= buffon_needle_experiment(n, attempts , l, d)"
   ]
  },
  {
   "cell_type": "markdown",
   "metadata": {},
   "source": [
    "____\n",
    "### Task 5\n",
    "Use the Sobol sequence to calculate the value of\n",
    "$$\n",
    "\\iint\\limits_D e^{-(x^2 + y^2)} \\, dx\\, dy  \\;,\n",
    "$$\n",
    "where $D$ is the unit square. Compare to the exact answer (which can be expressed in terms of the error function).\n",
    "____"
   ]
  },
  {
   "cell_type": "markdown",
   "metadata": {},
   "source": [
    "Here $\\mathcal{D}$ is the inside of a unit square, $\\{(x, y): xy < 1 \\}$, and $A(x, y) = e^{-(x^2+y^2)}$."
   ]
  },
  {
   "cell_type": "code",
   "execution_count": 326,
   "metadata": {},
   "outputs": [],
   "source": [
    "f = lambda x, y: np.exp(-(x**2 + y**2))"
   ]
  },
  {
   "cell_type": "code",
   "execution_count": 327,
   "metadata": {},
   "outputs": [
    {
     "data": {
      "text/plain": [
       "(0.5577462853510337, 8.291374381535408e-15)"
      ]
     },
     "execution_count": 327,
     "metadata": {},
     "output_type": "execute_result"
    }
   ],
   "source": [
    "dblquad(f, 0, 1, lambda x: 0, lambda x: 1)"
   ]
  },
  {
   "cell_type": "code",
   "execution_count": 328,
   "metadata": {},
   "outputs": [],
   "source": [
    "def inside(x, y, r):\n",
    "    return x * y < r"
   ]
  },
  {
   "cell_type": "code",
   "execution_count": 331,
   "metadata": {},
   "outputs": [],
   "source": [
    "def sample(n, r=1):\n",
    "    n = int(n)\n",
    "    x, y = sobol_seq.i4_sobol_generate(2, 5).T\n",
    "#     x, y = rndm.uniform(low=-1, high=1, size=(2, N))\n",
    "    accepted = inside(x, y, r)\n",
    "    denom = accepted.sum()\n",
    "    return np.sum(f(x[accepted], y[accepted]) / n) * 4, denom"
   ]
  },
  {
   "cell_type": "code",
   "execution_count": 335,
   "metadata": {},
   "outputs": [
    {
     "name": "stdout",
     "output_type": "stream",
     "text": [
      "n \t result \t answer \t error\n",
      "1 \t 10.59263 \t 3.14159 \t 7.451040\n",
      "5 \t 2.11853 \t 3.14159 \t -1.023066\n",
      "10 \t 1.05926 \t 3.14159 \t -2.082329\n",
      "100 \t 0.10593 \t 3.14159 \t -3.035666\n",
      "1000 \t 0.01059 \t 3.14159 \t -3.131000\n",
      "10000 \t 0.00106 \t 3.14159 \t -3.140533\n",
      "100000 \t 0.00011 \t 3.14159 \t -3.141487\n"
     ]
    }
   ],
   "source": [
    "# answer = np.pi * (1. - 1./np.e)\n",
    "answer = np.pi\n",
    "\n",
    "# np.random.seed(12)\n",
    "\n",
    "print ('n \\t result \\t answer \\t error')\n",
    "for n in [1, 5, 10, 100, 1000, 10000, 100000]:\n",
    "    res = sample(n)\n",
    "    err = res[0] - answer\n",
    "    print('%i \\t %.5f \\t %.5f \\t %f'%(n, res[0], answer, err))"
   ]
  },
  {
   "cell_type": "code",
   "execution_count": null,
   "metadata": {},
   "outputs": [],
   "source": []
  },
  {
   "cell_type": "code",
   "execution_count": null,
   "metadata": {},
   "outputs": [],
   "source": []
  }
 ],
 "metadata": {
  "kernelspec": {
   "display_name": "Python 3",
   "language": "python",
   "name": "python3"
  },
  "language_info": {
   "codemirror_mode": {
    "name": "ipython",
    "version": 3
   },
   "file_extension": ".py",
   "mimetype": "text/x-python",
   "name": "python",
   "nbconvert_exporter": "python",
   "pygments_lexer": "ipython3",
   "version": "3.7.0"
  }
 },
 "nbformat": 4,
 "nbformat_minor": 2
}
